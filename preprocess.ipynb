{
 "cells": [
  {
   "cell_type": "code",
   "execution_count": 14,
   "id": "f111a87a-f0b4-46df-93a5-abe40f4b2879",
   "metadata": {},
   "outputs": [],
   "source": [
    "from keras.utils import img_to_array,load_img\n",
    "import numpy as np\n",
    "import glob\n",
    "import os\n",
    "import cv2"
   ]
  },
  {
   "cell_type": "code",
   "execution_count": 15,
   "id": "3ec32a28-8aba-40fd-9558-e41924b9c2a1",
   "metadata": {},
   "outputs": [],
   "source": [
    "video_source_path = './training_videos'\n",
    "fps = 5\n",
    "image_store = []"
   ]
  },
  {
   "cell_type": "code",
   "execution_count": 16,
   "id": "70ac2b86-d014-4a84-a5e0-bc48586510cf",
   "metadata": {},
   "outputs": [],
   "source": [
    "def create_dir(path):\n",
    "\tif not os.path.exists(path):\n",
    "\t\tos.makedirs(path)"
   ]
  },
  {
   "cell_type": "code",
   "execution_count": 17,
   "id": "607d61c4-2d14-4007-9416-fff47bee3ea2",
   "metadata": {},
   "outputs": [],
   "source": [
    "def remove_old_images(path):\n",
    "\tfilelist = glob.glob(os.path.join(path, \"*.png\"))\n",
    "\tfor f in filelist:\n",
    "\t\tos.remove(f)"
   ]
  },
  {
   "cell_type": "code",
   "execution_count": 19,
   "id": "a63a126f-31a9-486e-b91d-324d9d5dcac8",
   "metadata": {},
   "outputs": [],
   "source": [
    "def store(image_path):\n",
    "\timg=load_img(image_path)\n",
    "\timg=img_to_array(img)\n",
    "\t#Resize the Image to (227,227,3) for the network to be able to process it.\n",
    "\timage = cv2.resize(img, (227, 227), interpolation = cv2.INTER_AREA) \n",
    "\t#Convert the Image to Grayscale\n",
    "\tgray=0.2989*img[:,:,0]+0.5870*img[:,:,1]+0.1140*img[:,:,2]\n",
    "\timage_store.append(gray)"
   ]
  },
  {
   "cell_type": "code",
   "execution_count": 20,
   "id": "6f5f920b-99d3-4e86-92d9-c43f99774825",
   "metadata": {},
   "outputs": [
    {
     "name": "stdout",
     "output_type": "stream",
     "text": [
      "Found 18 training video(s)\n"
     ]
    }
   ],
   "source": [
    "#List of all Videos in the Source Directory.\n",
    "videos=os.listdir(video_source_path)\n",
    "print(\"Found\",len(videos),\"training video(s)\" )"
   ]
  },
  {
   "cell_type": "code",
   "execution_count": 21,
   "id": "dfc796d7-013b-42f7-af37-5c09c9b34b58",
   "metadata": {},
   "outputs": [],
   "source": [
    "#Make a temp dir to store all the frames\n",
    "create_dir(video_source_path+'/frames')"
   ]
  },
  {
   "cell_type": "code",
   "execution_count": 22,
   "id": "54097334-26b0-4de4-8f46-288aa182cb39",
   "metadata": {},
   "outputs": [],
   "source": [
    "#Remove old images\n",
    "remove_old_images(video_source_path+'/frames')"
   ]
  },
  {
   "cell_type": "code",
   "execution_count": 23,
   "id": "b5f85705-d90d-4b94-a7a7-f82dcc6961e8",
   "metadata": {},
   "outputs": [],
   "source": [
    "framepath=video_source_path+'/frames'\n",
    "\n",
    "for video in videos:\n",
    "\t\tos.system( 'ffmpeg -i {}/{} -r 1/{}  {}/frames/%03d.jpg'.format(video_source_path,video,fps,video_source_path))\n",
    "\t\timages=os.listdir(framepath)\n",
    "\t\tfor image in images:\n",
    "\t\t\timage_path=framepath+ '/'+ image\n",
    "\t\t\tstore(image_path)"
   ]
  },
  {
   "cell_type": "code",
   "execution_count": 24,
   "id": "dd99a834-2b3b-479a-a223-89421095389f",
   "metadata": {},
   "outputs": [],
   "source": [
    "image_store=np.array(image_store)\n",
    "a,b,c=image_store.shape\n",
    "#Reshape to (227,227,batch_size)\n",
    "image_store.resize(b,c,a)\n",
    "#Normalize\n",
    "image_store=(image_store-image_store.mean())/(image_store.std())\n",
    "#Clip negative Values\n",
    "image_store=np.clip(image_store,0,1)"
   ]
  },
  {
   "cell_type": "code",
   "execution_count": 25,
   "id": "f5d715ef-a338-46bc-9943-f8952d7bca14",
   "metadata": {},
   "outputs": [
    {
     "data": {
      "text/plain": [
       "1"
      ]
     },
     "execution_count": 25,
     "metadata": {},
     "output_type": "execute_result"
    }
   ],
   "source": [
    "np.save('training.npy', image_store)\n",
    "#Remove Buffer Directory\n",
    "os.system('rm -r {}'.format(framepath))"
   ]
  },
  {
   "cell_type": "code",
   "execution_count": null,
   "id": "74072060-4ab3-4849-be24-060d475f198f",
   "metadata": {},
   "outputs": [],
   "source": []
  }
 ],
 "metadata": {
  "kernelspec": {
   "display_name": "Python 3 (ipykernel)",
   "language": "python",
   "name": "python3"
  },
  "language_info": {
   "codemirror_mode": {
    "name": "ipython",
    "version": 3
   },
   "file_extension": ".py",
   "mimetype": "text/x-python",
   "name": "python",
   "nbconvert_exporter": "python",
   "pygments_lexer": "ipython3",
   "version": "3.10.5"
  }
 },
 "nbformat": 4,
 "nbformat_minor": 5
}
