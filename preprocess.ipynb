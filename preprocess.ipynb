{
 "cells": [
  {
   "cell_type": "code",
   "execution_count": 1,
   "id": "1fd0ee8b-fb2f-4458-b17a-11ae40b606b8",
   "metadata": {},
   "outputs": [],
   "source": [
    "import numpy as np\n",
    "import glob\n",
    "import os \n",
    "import cv2\n",
    "from keras.utils import img_to_array,load_img"
   ]
  },
  {
   "cell_type": "code",
   "execution_count": 2,
   "id": "cd01969c-a079-43e5-8d7a-8991e74cce45",
   "metadata": {},
   "outputs": [],
   "source": [
    "store_image = []\n",
    "video_source_path = './training_videos'\n",
    "fps = 5\n",
    "\n",
    "# list all the video names in the directory training_videos\n",
    "train_videos = os.listdir(video_source_path)\n",
    "\n",
    "# create a directory to store images after extracting\n",
    "train_images_path = video_source_path +'/frames'\n",
    "\n",
    "if not os.path.exists(train_images_path): \n",
    "    os.makedirs(train_images_path)\n",
    "\n",
    "def store_in_array(image_path): \n",
    "    img = load_img(image_path) # keras function for loading images\n",
    "    img = img_to_array(img) # img to 3-D numpy array\n",
    "    \n",
    "    # interpolation is the algorithm used for resizing an image\n",
    "    image = cv2.resize(img, (227, 227), \n",
    "                        interpolation = cv2.INTER_AREA) \n",
    "    gray=0.2989*image[:,:,0]+0.5870*image[:,:,1]+0.1140*image[:,:,2]\n",
    "    store_image.append(gray)"
   ]
  },
  {
   "cell_type": "code",
   "execution_count": 3,
   "id": "32c92b31-3d86-4c75-8734-139b6714b620",
   "metadata": {},
   "outputs": [],
   "source": [
    "for video in train_videos:\n",
    "    os.system( 'ffmpeg -i {}/{} -r 1/{}  {}/frames/%03d.jpg'.format(video_source_path,video,fps,video_source_path))\n",
    "    images=os.listdir(train_images_path)\n",
    "    for image in images:\n",
    "        image_path=train_images_path + '/' + image\n",
    "        store_in_array(image_path)"
   ]
  },
  {
   "cell_type": "code",
   "execution_count": 4,
   "id": "ea797707-496e-4d3f-9897-78e760bb0728",
   "metadata": {},
   "outputs": [],
   "source": [
    "store_image=np.array(store_image)\n",
    "a,b,c=store_image.shape\n",
    "store_image.resize(b,c,a)\n",
    "store_image=(store_image-store_image.mean())/(store_image.std())\n",
    "store_image=np.clip(store_image,0,1)\n",
    "np.save('training.npy',store_image)"
   ]
  },
  {
   "cell_type": "code",
   "execution_count": null,
   "id": "0e095bc0-fa20-453f-ba42-857169c3f87b",
   "metadata": {},
   "outputs": [],
   "source": []
  }
 ],
 "metadata": {
  "kernelspec": {
   "display_name": "Python 3 (ipykernel)",
   "language": "python",
   "name": "python3"
  },
  "language_info": {
   "codemirror_mode": {
    "name": "ipython",
    "version": 3
   },
   "file_extension": ".py",
   "mimetype": "text/x-python",
   "name": "python",
   "nbconvert_exporter": "python",
   "pygments_lexer": "ipython3",
   "version": "3.10.5"
  }
 },
 "nbformat": 4,
 "nbformat_minor": 5
}
