{
 "cells": [
  {
   "cell_type": "code",
   "execution_count": 1,
   "id": "ce04c67e-21d5-418e-9909-9b726c2cafef",
   "metadata": {},
   "outputs": [],
   "source": [
    "import cv2 \n",
    "import numpy as np\n",
    "from keras.models import load_model\n",
    "import argparse\n",
    "from PIL import Image\n",
    "import imutils"
   ]
  },
  {
   "cell_type": "code",
   "execution_count": 2,
   "id": "24934103-1e44-4142-8d20-1ec30cbef35b",
   "metadata": {},
   "outputs": [],
   "source": [
    "from ModelSTAE import loadModel"
   ]
  },
  {
   "cell_type": "code",
   "execution_count": 3,
   "id": "5c73d81e-6108-46b3-adfa-872ba798a0ce",
   "metadata": {},
   "outputs": [],
   "source": [
    "def mean_squared_loss(x1,x2):\n",
    "    difference=x1-x2\n",
    "    a,b,c,d,e=difference.shape\n",
    "    n_samples=a*b*c*d*e\n",
    "    sq_difference=difference**2\n",
    "    Sum=sq_difference.sum()\n",
    "    distance=np.sqrt(Sum)\n",
    "    mean_distance=distance/n_samples\n",
    "    return mean_distance"
   ]
  },
  {
   "cell_type": "code",
   "execution_count": 15,
   "id": "99d9b4db-36dc-4ebb-b7b9-d5d157fcf051",
   "metadata": {},
   "outputs": [
    {
     "name": "stdout",
     "output_type": "stream",
     "text": [
      "True\n"
     ]
    }
   ],
   "source": [
    "model = loadModel()\n",
    "model.load_weights('weights')\n",
    "cap = cv2.VideoCapture(\"C://Users/esnd1/Theft_Detection_Project/testing_videos/05.avi\")\n",
    "print(cap.isOpened())"
   ]
  },
  {
   "cell_type": "code",
   "execution_count": null,
   "id": "e7bad59b-f289-4262-bde7-1947fc45912a",
   "metadata": {
    "tags": []
   },
   "outputs": [],
   "source": [
    "while cap.isOpened():\n",
    "    imagedump=[]\n",
    "    ret,frame=cap.read()\n",
    "    no_more_frames = False\n",
    "    for i in range(10):\n",
    "        ret,frame=cap.read()\n",
    "        if(ret == True):\n",
    "            image = imutils.resize(frame,width=700,height=600)\n",
    "            frame=cv2.resize(frame, (227,227), interpolation = cv2.INTER_AREA)\n",
    "            gray=0.2989*frame[:,:,0]+0.5870*frame[:,:,1]+0.1140*frame[:,:,2]\n",
    "            gray=(gray-gray.mean())/gray.std()\n",
    "            gray=np.clip(gray,0,1)\n",
    "            imagedump.append(gray)\n",
    "        else: \n",
    "            no_more_frames = True\n",
    "            break \n",
    "        \n",
    "    imagedump=np.array(imagedump)\n",
    "    imagedump.resize(227,227,10)\n",
    "    imagedump=np.expand_dims(imagedump,axis=0)\n",
    "    imagedump=np.expand_dims(imagedump,axis=4)\n",
    "    output=model.predict(imagedump)\n",
    "    loss=mean_squared_loss(imagedump,output)\n",
    "    print(loss) \n",
    "    if no_more_frames: \n",
    "        break\n",
    "    if frame.any() == None:\n",
    "        print(\"none\")\n",
    "    if cv2.waitKey(10) & 0xFF==ord('q'):\n",
    "        break\n",
    "    if loss>0.00043:\n",
    "        print('Abnormal Event Detected')\n",
    "        cv2.putText(image,\"Abnormal Event\",(100,80),cv2.FONT_HERSHEY_PLAIN,2,(0,0,255),2)\n",
    "    cv2.imshow(\"video\",image)\n",
    "        \n",
    "cap.release()\n",
    "cv2.destroyAllWindows()\n",
    "        "
   ]
  },
  {
   "cell_type": "code",
   "execution_count": null,
   "id": "06235249-c398-46fc-94e9-1907b9b42e10",
   "metadata": {},
   "outputs": [],
   "source": []
  }
 ],
 "metadata": {
  "kernelspec": {
   "display_name": "Python 3 (ipykernel)",
   "language": "python",
   "name": "python3"
  },
  "language_info": {
   "codemirror_mode": {
    "name": "ipython",
    "version": 3
   },
   "file_extension": ".py",
   "mimetype": "text/x-python",
   "name": "python",
   "nbconvert_exporter": "python",
   "pygments_lexer": "ipython3",
   "version": "3.10.5"
  },
  "vscode": {
   "interpreter": {
    "hash": "cb513d2bd2ad890c05fd065db42011f8dd2643a3366370aa3bbd4d3f154561a6"
   }
  }
 },
 "nbformat": 4,
 "nbformat_minor": 5
}
