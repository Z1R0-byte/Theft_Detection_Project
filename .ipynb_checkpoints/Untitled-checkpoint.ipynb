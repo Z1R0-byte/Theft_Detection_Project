{
 "cells": [
  {
   "cell_type": "code",
   "execution_count": 1,
   "id": "b1cb538b-9b1b-450b-8f57-ab79dac6c040",
   "metadata": {},
   "outputs": [],
   "source": [
    "import tensorflow as tf\n",
    "from tensorflow import keras"
   ]
  },
  {
   "cell_type": "code",
   "execution_count": 2,
   "id": "65445ff1-7232-44da-b014-b91d6ca317c4",
   "metadata": {},
   "outputs": [],
   "source": [
    "import numpy as np\n",
    "import glob\n",
    "import os \n",
    "import cv2\n",
    "\n",
    "from keras.layers import Conv3D,ConvLSTM2D,Conv3DTranspose\n",
    "from keras.models import Sequential\n",
    "from keras.callbacks import ModelCheckpoint, EarlyStopping\n",
    "# import imutils"
   ]
  },
  {
   "cell_type": "code",
   "execution_count": 4,
   "id": "72b78259-4f33-4f84-8786-edc12c82f158",
   "metadata": {},
   "outputs": [],
   "source": [
    "store_image = []\n",
    "train_path = './training_videos'\n",
    "\n",
    "fps = 5\n",
    "# list all the video names in the directory training_videos\n",
    "train_videos = os.listdir(train_path)\n",
    "\n",
    "# create a directory to store images after extracting\n",
    "train_images_path = train_path+'/frames'\n",
    "os.makedirs(train_images_path)\n",
    "\n",
    "def store_in_array(image_path): \n",
    "    image = load_img(image_path) # keras function for loading images\n",
    "    image = img_to_array(image) # img to 3-D numpy array\n",
    "    \n",
    "    # interpolation is the algorithm used for resizing an image\n",
    "    image = cv2.resize(image, (227, 227), \n",
    "                        interpolation = cv2.INTER_AREA) \n",
    "    gray=0.2989*image[:,:,0]+0.5870*image[:,:,1]+0.1140*image[:,:,2]\n",
    "    store_image.append(gray)"
   ]
  },
  {
   "cell_type": "code",
   "execution_count": 9,
   "id": "34253eb9-f056-479a-992c-4983d0e067e5",
   "metadata": {},
   "outputs": [
    {
     "name": "stdout",
     "output_type": "stream",
     "text": [
      "<class 'str'>\n",
      "<class 'str'>\n",
      "<class 'str'>\n",
      "<class 'str'>\n",
      "<class 'str'>\n",
      "<class 'str'>\n",
      "<class 'str'>\n",
      "<class 'str'>\n",
      "<class 'str'>\n",
      "<class 'str'>\n",
      "<class 'str'>\n",
      "<class 'str'>\n",
      "<class 'str'>\n",
      "<class 'str'>\n",
      "<class 'str'>\n",
      "<class 'str'>\n",
      "<class 'str'>\n"
     ]
    }
   ],
   "source": [
    "for v in train_videos: \n",
    "    vid_path = train_path + '/' + v\n",
    "    cam = cv2.VideoCapture(vid_path)\n",
    "    \n",
    "    frames = []\n",
    "    "
   ]
  },
  {
   "cell_type": "code",
   "execution_count": 6,
   "id": "13564c35-d7f6-472f-a11e-040be2816e7d",
   "metadata": {},
   "outputs": [
    {
     "data": {
      "text/plain": [
       "(0,)"
      ]
     },
     "execution_count": 6,
     "metadata": {},
     "output_type": "execute_result"
    }
   ],
   "source": [
    "store_image=np.array(store_image)\n",
    "store_image.shape"
   ]
  },
  {
   "cell_type": "code",
   "execution_count": 10,
   "id": "b8a9c75a-970f-4229-ab08-439b9a913c9a",
   "metadata": {},
   "outputs": [],
   "source": [
    "for video in train_videos:\n",
    "    os.system( 'ffmpeg -i {}/{} -r 1/{}  {}/frames/%03d.jpg'.format(train_path,video,fps,train_path))"
   ]
  },
  {
   "cell_type": "code",
   "execution_count": null,
   "id": "f23f2417-fe8a-4dbe-976e-c7ee24de65fa",
   "metadata": {},
   "outputs": [],
   "source": []
  }
 ],
 "metadata": {
  "kernelspec": {
   "display_name": "Python 3 (ipykernel)",
   "language": "python",
   "name": "python3"
  },
  "language_info": {
   "codemirror_mode": {
    "name": "ipython",
    "version": 3
   },
   "file_extension": ".py",
   "mimetype": "text/x-python",
   "name": "python",
   "nbconvert_exporter": "python",
   "pygments_lexer": "ipython3",
   "version": "3.9.12"
  }
 },
 "nbformat": 4,
 "nbformat_minor": 5
}
