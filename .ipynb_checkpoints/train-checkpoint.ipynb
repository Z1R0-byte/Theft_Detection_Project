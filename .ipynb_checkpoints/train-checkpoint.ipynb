{
 "cells": [
  {
   "cell_type": "code",
   "execution_count": 8,
   "id": "b1cb538b-9b1b-450b-8f57-ab79dac6c040",
   "metadata": {},
   "outputs": [],
   "source": [
    "import tensorflow as tf\n",
    "from tensorflow import keras"
   ]
  },
  {
   "cell_type": "code",
   "execution_count": 9,
   "id": "77e887c9-27bb-47e9-8fc9-a024b1142bd3",
   "metadata": {},
   "outputs": [
    {
     "data": {
      "text/plain": [
       "[PhysicalDevice(name='/physical_device:GPU:0', device_type='GPU')]"
      ]
     },
     "execution_count": 9,
     "metadata": {},
     "output_type": "execute_result"
    }
   ],
   "source": [
    "tf.config.list_physical_devices('GPU')"
   ]
  },
  {
   "cell_type": "code",
   "execution_count": 10,
   "id": "65445ff1-7232-44da-b014-b91d6ca317c4",
   "metadata": {},
   "outputs": [],
   "source": [
    "import numpy as np\n",
    "import glob\n",
    "import os \n",
    "import cv2\n",
    "\n",
    "from keras.layers import Conv3D,ConvLSTM2D,Conv3DTranspose\n",
    "from keras.models import Sequential\n",
    "from keras.callbacks import ModelCheckpoint, EarlyStopping\n",
    "from keras.utils import img_to_array,load_img\n",
    "# import imutils"
   ]
  },
  {
   "cell_type": "code",
   "execution_count": 11,
   "id": "72b78259-4f33-4f84-8786-edc12c82f158",
   "metadata": {},
   "outputs": [],
   "source": [
    "store_image = []\n",
    "train_path = './training_videos'\n",
    "\n",
    "fps = 5\n",
    "# list all the video names in the directory training_videos\n",
    "train_videos = os.listdir(train_path)\n",
    "\n",
    "# create a directory to store images after extracting\n",
    "train_images_path = train_path+'/frames'\n",
    "\n",
    "if not os.path.exists(train_images_path): \n",
    "    os.makedirs(train_images_path)\n",
    "\n",
    "def store_in_array(image_path): \n",
    "    image = load_img(image_path) # keras function for loading images\n",
    "    image = img_to_array(image) # img to 3-D numpy array\n",
    "    \n",
    "    # interpolation is the algorithm used for resizing an image\n",
    "    image = cv2.resize(image, (227, 227), \n",
    "                        interpolation = cv2.INTER_AREA) \n",
    "    gray=0.2989*image[:,:,0]+0.5870*image[:,:,1]+0.1140*image[:,:,2]\n",
    "    store_image.append(gray)"
   ]
  },
  {
   "cell_type": "code",
   "execution_count": 6,
   "id": "b8a9c75a-970f-4229-ab08-439b9a913c9a",
   "metadata": {},
   "outputs": [],
   "source": [
    "for video in train_videos:\n",
    "    os.system( 'ffmpeg -i {}/{} -r 1/{}  {}/frames/%03d.jpg'.format(train_path,video,fps,train_path))\n",
    "    images=os.listdir(train_images_path)\n",
    "    for image in images:\n",
    "        image_path=train_images_path + '/' + image\n",
    "        store_in_array(image_path)"
   ]
  },
  {
   "cell_type": "code",
   "execution_count": 6,
   "id": "f23f2417-fe8a-4dbe-976e-c7ee24de65fa",
   "metadata": {},
   "outputs": [],
   "source": [
    "store_image=np.array(store_image)\n",
    "a,b,c=store_image.shape\n",
    "store_image.resize(b,c,a)\n",
    "store_image=(store_image-store_image.mean())/(store_image.std())\n",
    "store_image=np.clip(store_image,0,1)\n",
    "np.save('training.npy',store_image)"
   ]
  },
  {
   "cell_type": "code",
   "execution_count": 12,
   "id": "b3513e55-d626-4d8a-bb30-76ff94c6aa6f",
   "metadata": {},
   "outputs": [],
   "source": [
    "stae_model=Sequential()\n",
    "\n",
    "stae_model.add(Conv3D(filters=128,kernel_size=(11,11,1),strides=(4,4,1),padding='valid',input_shape=(227,227,10,1),activation='tanh'))\n",
    "stae_model.add(Conv3D(filters=64,kernel_size=(5,5,1),strides=(2,2,1),padding='valid',activation='tanh'))\n",
    "stae_model.add(ConvLSTM2D(filters=64,kernel_size=(3,3),strides=1,padding='same',dropout=0.4,recurrent_dropout=0.3,return_sequences=True))\n",
    "stae_model.add(ConvLSTM2D(filters=32,kernel_size=(3,3),strides=1,padding='same',dropout=0.3,return_sequences=True))\n",
    "stae_model.add(ConvLSTM2D(filters=64,kernel_size=(3,3),strides=1,return_sequences=True, padding='same',dropout=0.5))\n",
    "stae_model.add(Conv3DTranspose(filters=128,kernel_size=(5,5,1),strides=(2,2,1),padding='valid',activation='tanh'))\n",
    "stae_model.add(Conv3DTranspose(filters=1,kernel_size=(11,11,1),strides=(4,4,1),padding='valid',activation='tanh'))\n",
    "\n",
    "stae_model.compile(optimizer='adam',loss='mean_squared_error',metrics=['accuracy'])"
   ]
  },
  {
   "cell_type": "code",
   "execution_count": 13,
   "id": "922271f5-aaf4-4a3c-8e8e-015b3c6ec97d",
   "metadata": {},
   "outputs": [
    {
     "name": "stdout",
     "output_type": "stream",
     "text": [
      "Epoch 1/20\n",
      "25/25 [==============================] - ETA: 0s - loss: 0.2326 - accuracy: 0.5279WARNING:tensorflow:Can save best model only with mean_squared_error available, skipping.\n",
      "WARNING:tensorflow:Early stopping conditioned on metric `val_loss` which is not available. Available metrics are: loss,accuracy\n",
      "25/25 [==============================] - 35s 774ms/step - loss: 0.2326 - accuracy: 0.5279\n",
      "Epoch 2/20\n",
      "25/25 [==============================] - ETA: 0s - loss: 0.2055 - accuracy: 0.5446WARNING:tensorflow:Can save best model only with mean_squared_error available, skipping.\n",
      "WARNING:tensorflow:Early stopping conditioned on metric `val_loss` which is not available. Available metrics are: loss,accuracy\n",
      "25/25 [==============================] - 16s 633ms/step - loss: 0.2055 - accuracy: 0.5446\n",
      "Epoch 3/20\n",
      "25/25 [==============================] - ETA: 0s - loss: 0.2004 - accuracy: 0.5450WARNING:tensorflow:Can save best model only with mean_squared_error available, skipping.\n",
      "WARNING:tensorflow:Early stopping conditioned on metric `val_loss` which is not available. Available metrics are: loss,accuracy\n",
      "25/25 [==============================] - 9s 362ms/step - loss: 0.2004 - accuracy: 0.5450\n",
      "Epoch 4/20\n",
      "25/25 [==============================] - ETA: 0s - loss: 0.1765 - accuracy: 0.5740WARNING:tensorflow:Can save best model only with mean_squared_error available, skipping.\n",
      "WARNING:tensorflow:Early stopping conditioned on metric `val_loss` which is not available. Available metrics are: loss,accuracy\n",
      "25/25 [==============================] - 11s 461ms/step - loss: 0.1765 - accuracy: 0.5740\n",
      "Epoch 5/20\n",
      "25/25 [==============================] - ETA: 0s - loss: 0.1224 - accuracy: 0.6712WARNING:tensorflow:Can save best model only with mean_squared_error available, skipping.\n",
      "WARNING:tensorflow:Early stopping conditioned on metric `val_loss` which is not available. Available metrics are: loss,accuracy\n",
      "25/25 [==============================] - 11s 445ms/step - loss: 0.1224 - accuracy: 0.6712\n",
      "Epoch 6/20\n",
      "25/25 [==============================] - ETA: 0s - loss: 0.0992 - accuracy: 0.6996WARNING:tensorflow:Can save best model only with mean_squared_error available, skipping.\n",
      "WARNING:tensorflow:Early stopping conditioned on metric `val_loss` which is not available. Available metrics are: loss,accuracy\n",
      "25/25 [==============================] - 8s 339ms/step - loss: 0.0992 - accuracy: 0.6996\n",
      "Epoch 7/20\n",
      "25/25 [==============================] - ETA: 0s - loss: 0.0910 - accuracy: 0.7098WARNING:tensorflow:Can save best model only with mean_squared_error available, skipping.\n",
      "WARNING:tensorflow:Early stopping conditioned on metric `val_loss` which is not available. Available metrics are: loss,accuracy\n",
      "25/25 [==============================] - 9s 351ms/step - loss: 0.0910 - accuracy: 0.7098\n",
      "Epoch 8/20\n",
      "25/25 [==============================] - ETA: 0s - loss: 0.0886 - accuracy: 0.7127WARNING:tensorflow:Can save best model only with mean_squared_error available, skipping.\n",
      "WARNING:tensorflow:Early stopping conditioned on metric `val_loss` which is not available. Available metrics are: loss,accuracy\n",
      "25/25 [==============================] - 9s 350ms/step - loss: 0.0886 - accuracy: 0.7127\n",
      "Epoch 9/20\n",
      "25/25 [==============================] - ETA: 0s - loss: 0.0860 - accuracy: 0.7155WARNING:tensorflow:Can save best model only with mean_squared_error available, skipping.\n",
      "WARNING:tensorflow:Early stopping conditioned on metric `val_loss` which is not available. Available metrics are: loss,accuracy\n",
      "25/25 [==============================] - 9s 355ms/step - loss: 0.0860 - accuracy: 0.7155\n",
      "Epoch 10/20\n",
      "25/25 [==============================] - ETA: 0s - loss: 0.0843 - accuracy: 0.7164WARNING:tensorflow:Can save best model only with mean_squared_error available, skipping.\n",
      "WARNING:tensorflow:Early stopping conditioned on metric `val_loss` which is not available. Available metrics are: loss,accuracy\n",
      "25/25 [==============================] - 9s 348ms/step - loss: 0.0843 - accuracy: 0.7164\n",
      "Epoch 11/20\n",
      "25/25 [==============================] - ETA: 0s - loss: 0.0827 - accuracy: 0.7182WARNING:tensorflow:Can save best model only with mean_squared_error available, skipping.\n",
      "WARNING:tensorflow:Early stopping conditioned on metric `val_loss` which is not available. Available metrics are: loss,accuracy\n",
      "25/25 [==============================] - 9s 357ms/step - loss: 0.0827 - accuracy: 0.7182\n",
      "Epoch 12/20\n",
      "25/25 [==============================] - ETA: 0s - loss: 0.0815 - accuracy: 0.7188WARNING:tensorflow:Can save best model only with mean_squared_error available, skipping.\n",
      "WARNING:tensorflow:Early stopping conditioned on metric `val_loss` which is not available. Available metrics are: loss,accuracy\n",
      "25/25 [==============================] - 9s 357ms/step - loss: 0.0815 - accuracy: 0.7188\n",
      "Epoch 13/20\n",
      "25/25 [==============================] - ETA: 0s - loss: 0.0808 - accuracy: 0.7193WARNING:tensorflow:Can save best model only with mean_squared_error available, skipping.\n",
      "WARNING:tensorflow:Early stopping conditioned on metric `val_loss` which is not available. Available metrics are: loss,accuracy\n",
      "25/25 [==============================] - 9s 356ms/step - loss: 0.0808 - accuracy: 0.7193\n",
      "Epoch 14/20\n",
      "25/25 [==============================] - ETA: 0s - loss: 0.0800 - accuracy: 0.7194WARNING:tensorflow:Can save best model only with mean_squared_error available, skipping.\n",
      "WARNING:tensorflow:Early stopping conditioned on metric `val_loss` which is not available. Available metrics are: loss,accuracy\n",
      "25/25 [==============================] - 9s 341ms/step - loss: 0.0800 - accuracy: 0.7194\n",
      "Epoch 15/20\n",
      "25/25 [==============================] - ETA: 0s - loss: 0.0795 - accuracy: 0.7200WARNING:tensorflow:Can save best model only with mean_squared_error available, skipping.\n",
      "WARNING:tensorflow:Early stopping conditioned on metric `val_loss` which is not available. Available metrics are: loss,accuracy\n",
      "25/25 [==============================] - 9s 347ms/step - loss: 0.0795 - accuracy: 0.7200\n",
      "Epoch 16/20\n",
      "25/25 [==============================] - ETA: 0s - loss: 0.0782 - accuracy: 0.7219WARNING:tensorflow:Can save best model only with mean_squared_error available, skipping.\n",
      "WARNING:tensorflow:Early stopping conditioned on metric `val_loss` which is not available. Available metrics are: loss,accuracy\n",
      "25/25 [==============================] - 9s 352ms/step - loss: 0.0782 - accuracy: 0.7219\n",
      "Epoch 17/20\n",
      "25/25 [==============================] - ETA: 0s - loss: 0.0783 - accuracy: 0.7223WARNING:tensorflow:Can save best model only with mean_squared_error available, skipping.\n",
      "WARNING:tensorflow:Early stopping conditioned on metric `val_loss` which is not available. Available metrics are: loss,accuracy\n",
      "25/25 [==============================] - 9s 353ms/step - loss: 0.0783 - accuracy: 0.7223\n",
      "Epoch 18/20\n",
      "25/25 [==============================] - ETA: 0s - loss: 0.0784 - accuracy: 0.7226WARNING:tensorflow:Can save best model only with mean_squared_error available, skipping.\n",
      "WARNING:tensorflow:Early stopping conditioned on metric `val_loss` which is not available. Available metrics are: loss,accuracy\n",
      "25/25 [==============================] - 9s 347ms/step - loss: 0.0784 - accuracy: 0.7226\n",
      "Epoch 19/20\n",
      "25/25 [==============================] - ETA: 0s - loss: 0.0769 - accuracy: 0.7243WARNING:tensorflow:Can save best model only with mean_squared_error available, skipping.\n",
      "WARNING:tensorflow:Early stopping conditioned on metric `val_loss` which is not available. Available metrics are: loss,accuracy\n",
      "25/25 [==============================] - 9s 345ms/step - loss: 0.0769 - accuracy: 0.7243\n",
      "Epoch 20/20\n",
      "25/25 [==============================] - ETA: 0s - loss: 0.0758 - accuracy: 0.7255WARNING:tensorflow:Can save best model only with mean_squared_error available, skipping.\n",
      "WARNING:tensorflow:Early stopping conditioned on metric `val_loss` which is not available. Available metrics are: loss,accuracy\n",
      "25/25 [==============================] - 9s 343ms/step - loss: 0.0758 - accuracy: 0.7255\n"
     ]
    }
   ],
   "source": [
    "training_data=np.load('training.npy')\n",
    "frames=training_data.shape[2]\n",
    "frames=frames-frames%10\n",
    "\n",
    "training_data=training_data[:,:,:frames]\n",
    "training_data=training_data.reshape(-1,227,227,10)\n",
    "training_data=np.expand_dims(training_data,axis=4)\n",
    "target_data=training_data.copy()\n",
    "\n",
    "epochs=20\n",
    "batch_size=1\n",
    "\n",
    "callback_save = ModelCheckpoint(\"saved_model.h5\", monitor=\"mean_squared_error\", save_best_only=True)\n",
    "\n",
    "callback_early_stopping = EarlyStopping(monitor='val_loss', patience=3)\n",
    "\n",
    "stae_model.fit(training_data,target_data, batch_size=batch_size, epochs=epochs, callbacks = [callback_save,callback_early_stopping])\n",
    "stae_model.save(\"saved_model_1.h5\")"
   ]
  },
  {
   "cell_type": "code",
   "execution_count": null,
   "id": "f2b7f35c-2fda-47e6-9583-28f41f68f385",
   "metadata": {},
   "outputs": [],
   "source": []
  }
 ],
 "metadata": {
  "kernelspec": {
   "display_name": "Python 3 (ipykernel)",
   "language": "python",
   "name": "python3"
  },
  "language_info": {
   "codemirror_mode": {
    "name": "ipython",
    "version": 3
   },
   "file_extension": ".py",
   "mimetype": "text/x-python",
   "name": "python",
   "nbconvert_exporter": "python",
   "pygments_lexer": "ipython3",
   "version": "3.10.5"
  }
 },
 "nbformat": 4,
 "nbformat_minor": 5
}
