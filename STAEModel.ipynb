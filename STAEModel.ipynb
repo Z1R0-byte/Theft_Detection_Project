{
 "cells": [
  {
   "cell_type": "code",
   "execution_count": 4,
   "id": "3eaa6a73-e90d-47c1-9260-4a41dc4b20fb",
   "metadata": {},
   "outputs": [],
   "source": [
    "from keras.layers import Conv3D,ConvLSTM2D,Conv3DTranspose\n",
    "from keras.models import Sequential, Model"
   ]
  },
  {
   "cell_type": "code",
   "execution_count": 5,
   "id": "83757ca6-9651-4d1d-a8b5-6836ca167d4f",
   "metadata": {},
   "outputs": [],
   "source": [
    "class STAE(Model):\n",
    "  def __init__(self):\n",
    "    super(STAE, self).__init__()\n",
    "    self.encoder = tf.keras.Sequential([\n",
    "      layers.Input(shape=(227, 227, 10, 1)),\n",
    "      layers.Conv3D(filters= 128, kernel_size= (11, 11, 1), strides= (4, 4, 1), padding='valid', activation='relu'),\n",
    "      layers.Conv3D(filters=64, kernel_size=(5, 5, 1), strides=(2, 2, 1), padding='valid', activation='relu')])\n",
    "    \n",
    "    self.bottleneck = tf.keras.Sequential([\n",
    "      layers.ConvLSTM2D(filters=64, kernel_size=(3, 3), strides=1, padding='same', dropout=0.4, recurrent_dropout=0.3, return_sequences=True),\n",
    "      layers.ConvLSTM2D(filters=32, kernel_size=(3, 3), strides=1, padding='same', dropout=0.3, return_sequences=True),\n",
    "      layers.ConvLSTM2D(filters=64, kernel_size=(3, 3), strides=1, return_sequences=True, padding='same', dropout=0.5)])\n",
    "    \n",
    "    self.decoder = tf.keras.Sequential([\n",
    "      layers.Conv3DTranspose(filters=128,kernel_size=(5,5,1),strides=(2,2,1),padding='valid',activation='relu'),\n",
    "      layers.Conv3DTranspose(filters=1,kernel_size=(11,11,1),strides=(4,4,1),padding='valid',activation='relu')])\n",
    "\n",
    "  def call(self, x):\n",
    "    encoded = self.encoder(x)\n",
    "    reduced = self.bottleneck(encoded) \n",
    "    decoded = self.decoder(reduced)\n",
    "    return decoded\n"
   ]
  },
  {
   "cell_type": "code",
   "execution_count": 6,
   "id": "1e064bc2-d1f2-4083-8bdd-6fadf7d569b1",
   "metadata": {},
   "outputs": [],
   "source": [
    "def loadModel():\n",
    "    model = STAE() \n",
    "    model.compile(optimizer='adam', loss='mean_squared_error', metrics=['accuracy'])\n",
    "    return model"
   ]
  },
  {
   "cell_type": "code",
   "execution_count": null,
   "id": "742c3e6f-77ad-4811-8cf0-40a3c141dbdc",
   "metadata": {},
   "outputs": [],
   "source": []
  }
 ],
 "metadata": {
  "kernelspec": {
   "display_name": "Python 3 (ipykernel)",
   "language": "python",
   "name": "python3"
  },
  "language_info": {
   "codemirror_mode": {
    "name": "ipython",
    "version": 3
   },
   "file_extension": ".py",
   "mimetype": "text/x-python",
   "name": "python",
   "nbconvert_exporter": "python",
   "pygments_lexer": "ipython3",
   "version": "3.10.5"
  }
 },
 "nbformat": 4,
 "nbformat_minor": 5
}
