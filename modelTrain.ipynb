{
 "cells": [
  {
   "cell_type": "code",
   "execution_count": 4,
   "id": "8e8ce30f-bd51-4e9b-9c36-9d247b3d2720",
   "metadata": {},
   "outputs": [],
   "source": [
    "from keras.layers import Conv3D,ConvLSTM2D,Conv3DTranspose\n",
    "from keras.models import Sequential, Model\n",
    "\n",
    "class STAE(Model):\n",
    "  def __init__(self):\n",
    "    super(STAE, self).__init__()\n",
    "    self.encoder = tf.keras.Sequential([\n",
    "      layers.Input(shape=(227, 227, 10, 1)),\n",
    "      layers.Conv3D(filters= 128, kernel_size= (11, 11, 1), strides= (4, 4, 1), padding='valid', activation='relu'),\n",
    "      layers.Conv3D(filters=64, kernel_size=(5, 5, 1), strides=(2, 2, 1), padding='valid', activation='relu')])\n",
    "    \n",
    "    self.bottleneck = tf.keras.Sequential([\n",
    "      layers.ConvLSTM2D(filters=64, kernel_size=(3, 3), strides=1, padding='same', dropout=0.4, recurrent_dropout=0.3, return_sequences=True),\n",
    "      layers.ConvLSTM2D(filters=32, kernel_size=(3, 3), strides=1, padding='same', dropout=0.3, return_sequences=True),\n",
    "      layers.ConvLSTM2D(filters=64, kernel_size=(3, 3), strides=1, return_sequences=True, padding='same', dropout=0.5)])\n",
    "    \n",
    "    self.decoder = tf.keras.Sequential([\n",
    "      layers.Conv3DTranspose(filters=128,kernel_size=(5,5,1),strides=(2,2,1),padding='valid',activation='relu'),\n",
    "      layers.Conv3DTranspose(filters=1,kernel_size=(11,11,1),strides=(4,4,1),padding='valid',activation='relu')])\n",
    "\n",
    "  def call(self, x):\n",
    "    encoded = self.encoder(x)\n",
    "    reduced = self.bottleneck(encoded) \n",
    "    decoded = self.decoder(reduced)\n",
    "    return decoded\n",
    "\n",
    "def loadModel():\n",
    "    model = STAE() \n",
    "    model.compile(optimizer='adam', loss='mean_squared_error', metrics=['accuracy'])\n",
    "    return model"
   ]
  },
  {
   "cell_type": "code",
   "execution_count": 5,
   "id": "9dc1dc79-7db6-40af-b88a-ef3109aeb956",
   "metadata": {},
   "outputs": [],
   "source": [
    "from keras.callbacks import ModelCheckpoint, EarlyStopping\n",
    "import numpy as np"
   ]
  },
  {
   "cell_type": "code",
   "execution_count": 6,
   "id": "9922b168-a668-4d4d-b9fc-b176b5dc6d40",
   "metadata": {},
   "outputs": [
    {
     "ename": "ValueError",
     "evalue": "cannot reshape array of size 57600000 into shape (227,227,10)",
     "output_type": "error",
     "traceback": [
      "\u001b[1;31m---------------------------------------------------------------------------\u001b[0m",
      "\u001b[1;31mValueError\u001b[0m                                Traceback (most recent call last)",
      "Input \u001b[1;32mIn [6]\u001b[0m, in \u001b[0;36m<cell line: 10>\u001b[1;34m()\u001b[0m\n\u001b[0;32m      7\u001b[0m frames\u001b[38;5;241m=\u001b[39mframes\u001b[38;5;241m-\u001b[39mframes\u001b[38;5;241m%\u001b[39m\u001b[38;5;241m10\u001b[39m\n\u001b[0;32m      9\u001b[0m X_train\u001b[38;5;241m=\u001b[39mX_train[:,:,:frames]\n\u001b[1;32m---> 10\u001b[0m X_train\u001b[38;5;241m=\u001b[39m\u001b[43mX_train\u001b[49m\u001b[38;5;241;43m.\u001b[39;49m\u001b[43mreshape\u001b[49m\u001b[43m(\u001b[49m\u001b[38;5;241;43m-\u001b[39;49m\u001b[38;5;241;43m1\u001b[39;49m\u001b[43m,\u001b[49m\u001b[38;5;241;43m227\u001b[39;49m\u001b[43m,\u001b[49m\u001b[38;5;241;43m227\u001b[39;49m\u001b[43m,\u001b[49m\u001b[38;5;241;43m10\u001b[39;49m\u001b[43m)\u001b[49m\n\u001b[0;32m     11\u001b[0m X_train\u001b[38;5;241m=\u001b[39mnp\u001b[38;5;241m.\u001b[39mexpand_dims(X_train,axis\u001b[38;5;241m=\u001b[39m\u001b[38;5;241m4\u001b[39m)\n\u001b[0;32m     12\u001b[0m Y_train\u001b[38;5;241m=\u001b[39mX_train\u001b[38;5;241m.\u001b[39mcopy()\n",
      "\u001b[1;31mValueError\u001b[0m: cannot reshape array of size 57600000 into shape (227,227,10)"
     ]
    }
   ],
   "source": [
    "n_epochs = 1\n",
    "\n",
    "X_train=np.load('training.npy')\n",
    "frames=X_train.shape[2]\n",
    "#Need to make number of frames divisible by 10\n",
    "\n",
    "frames=frames-frames%10\n",
    "\n",
    "X_train=X_train[:,:,:frames]\n",
    "X_train=X_train.reshape(-1,227,227,10)\n",
    "X_train=np.expand_dims(X_train,axis=4)\n",
    "Y_train=X_train.copy()\n",
    "\n",
    "\n",
    "epochs=n_epochs\n",
    "batch_size=32"
   ]
  },
  {
   "cell_type": "code",
   "execution_count": null,
   "id": "6361e81f-374b-456b-9b6b-449f66548bec",
   "metadata": {},
   "outputs": [],
   "source": [
    "if __name__==\"__main__\":\n",
    "\n",
    "\tmodel=loadModel()\n",
    "\n",
    "\tcallback_save = ModelCheckpoint(\"model.h5\",\n",
    "\t\t\t\t\t\t\t\t\tmonitor=\"mean_squared_error\", save_best_only=True)\n",
    "\n",
    "\tcallback_early_stopping = EarlyStopping(monitor='val_loss', patience=3)\n",
    "\n",
    "\tprint('Model has been loaded')\n",
    "\n",
    "\tmodel.fit(X_train,Y_train,\n",
    "\t\t\t  batch_size=batch_size,\n",
    "\t\t\t  epochs=epochs,\n",
    "\t\t\t  callbacks = [callback_save,callback_early_stopping]\n",
    "\t\t\t  )"
   ]
  }
 ],
 "metadata": {
  "kernelspec": {
   "display_name": "Python 3 (ipykernel)",
   "language": "python",
   "name": "python3"
  },
  "language_info": {
   "codemirror_mode": {
    "name": "ipython",
    "version": 3
   },
   "file_extension": ".py",
   "mimetype": "text/x-python",
   "name": "python",
   "nbconvert_exporter": "python",
   "pygments_lexer": "ipython3",
   "version": "3.10.5"
  }
 },
 "nbformat": 4,
 "nbformat_minor": 5
}
