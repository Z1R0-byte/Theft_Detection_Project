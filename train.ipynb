{
 "cells": [
  {
   "cell_type": "code",
   "execution_count": 1,
   "id": "b1cb538b-9b1b-450b-8f57-ab79dac6c040",
   "metadata": {},
   "outputs": [],
   "source": [
    "import tensorflow as tf\n",
    "from tensorflow import keras"
   ]
  },
  {
   "cell_type": "code",
   "execution_count": 2,
   "id": "77e887c9-27bb-47e9-8fc9-a024b1142bd3",
   "metadata": {},
   "outputs": [
    {
     "data": {
      "text/plain": [
       "[PhysicalDevice(name='/physical_device:GPU:0', device_type='GPU')]"
      ]
     },
     "execution_count": 2,
     "metadata": {},
     "output_type": "execute_result"
    }
   ],
   "source": [
    "tf.config.list_physical_devices('GPU')"
   ]
  },
  {
   "cell_type": "code",
   "execution_count": 3,
   "id": "65445ff1-7232-44da-b014-b91d6ca317c4",
   "metadata": {},
   "outputs": [],
   "source": [
    "import numpy as np\n",
    "import glob\n",
    "import os \n",
    "import cv2\n",
    "\n",
    "from keras.layers import Input,Conv3D,ConvLSTM2D,Conv3DTranspose\n",
    "from keras.models import Sequential, Model\n",
    "from keras.callbacks import ModelCheckpoint, EarlyStopping\n",
    "from keras.utils import img_to_array,load_img\n",
    "from ModelSTAE import loadModel\n",
    "# import imutils"
   ]
  },
  {
   "cell_type": "code",
   "execution_count": 4,
   "id": "72b78259-4f33-4f84-8786-edc12c82f158",
   "metadata": {},
   "outputs": [],
   "source": [
    "store_image = []\n",
    "video_source_path = './training_videos'\n",
    "fps = 5\n",
    "\n",
    "# list all the video names in the directory training_videos\n",
    "train_videos = os.listdir(video_source_path)\n",
    "\n",
    "# create a directory to store images after extracting\n",
    "train_images_path = video_source_path +'/frames'\n",
    "\n",
    "if not os.path.exists(train_images_path): \n",
    "    os.makedirs(train_images_path)\n",
    "\n",
    "def store_in_array(image_path): \n",
    "    image = load_img(image_path) # keras function for loading images\n",
    "    image = img_to_array(image) # img to 3-D numpy array\n",
    "    \n",
    "    # interpolation is the algorithm used for resizing an image\n",
    "    image = cv2.resize(image, (227, 227), \n",
    "                        interpolation = cv2.INTER_AREA) \n",
    "    gray=0.2989*image[:,:,0]+0.5870*image[:,:,1]+0.1140*image[:,:,2]\n",
    "    store_image.append(gray)"
   ]
  },
  {
   "cell_type": "code",
   "execution_count": 5,
   "id": "b8a9c75a-970f-4229-ab08-439b9a913c9a",
   "metadata": {},
   "outputs": [],
   "source": [
    "for video in train_videos:\n",
    "    os.system( 'ffmpeg -i {}/{} -r 1/{}  {}/frames/%03d.jpg'.format(video_source_path,video,fps,video_source_path))\n",
    "    images=os.listdir(train_images_path)\n",
    "    for image in images:\n",
    "        image_path=train_images_path + '/' + image\n",
    "        store_in_array(image_path)"
   ]
  },
  {
   "cell_type": "code",
   "execution_count": 6,
   "id": "f23f2417-fe8a-4dbe-976e-c7ee24de65fa",
   "metadata": {},
   "outputs": [],
   "source": [
    "store_image=np.array(store_image)\n",
    "a,b,c=store_image.shape\n",
    "store_image.resize(b,c,a)\n",
    "store_image=(store_image-store_image.mean())/(store_image.std())\n",
    "store_image=np.clip(store_image,0,1)\n",
    "np.save('training.npy',store_image)"
   ]
  },
  {
   "cell_type": "code",
   "execution_count": 7,
   "id": "922271f5-aaf4-4a3c-8e8e-015b3c6ec97d",
   "metadata": {},
   "outputs": [],
   "source": [
    "training_data=np.load('training.npy')\n",
    "frames=training_data.shape[2]\n",
    "frames=frames-frames%10\n",
    "\n",
    "training_data=training_data[:,:,:frames]\n",
    "training_data=training_data.reshape(-1,227,227,10)\n",
    "training_data=np.expand_dims(training_data,axis=4)\n",
    "target_data=training_data.copy()\n",
    "\n",
    "epochs=20\n",
    "batch_size=1"
   ]
  },
  {
   "cell_type": "code",
   "execution_count": 8,
   "id": "bb4001ce-dc99-44b0-81b1-672e9a139806",
   "metadata": {},
   "outputs": [
    {
     "name": "stdout",
     "output_type": "stream",
     "text": [
      "Model has been loaded\n",
      "Epoch 1/20\n",
      "25/25 [==============================] - ETA: 0s - loss: 0.2346 - accuracy: 0.5274WARNING:tensorflow:Can save best model only with mean_squared_error available, skipping.\n",
      "25/25 [==============================] - 19s 379ms/step - loss: 0.2346 - accuracy: 0.5274\n",
      "Epoch 2/20\n",
      "25/25 [==============================] - ETA: 0s - loss: 0.2029 - accuracy: 0.5443WARNING:tensorflow:Can save best model only with mean_squared_error available, skipping.\n",
      "25/25 [==============================] - 10s 382ms/step - loss: 0.2029 - accuracy: 0.5443\n",
      "Epoch 3/20\n",
      "25/25 [==============================] - ETA: 0s - loss: 0.1999 - accuracy: 0.5447WARNING:tensorflow:Can save best model only with mean_squared_error available, skipping.\n",
      "25/25 [==============================] - 9s 353ms/step - loss: 0.1999 - accuracy: 0.5447\n",
      "Epoch 4/20\n",
      "25/25 [==============================] - ETA: 0s - loss: 0.1992 - accuracy: 0.5450WARNING:tensorflow:Can save best model only with mean_squared_error available, skipping.\n",
      "25/25 [==============================] - 10s 398ms/step - loss: 0.1992 - accuracy: 0.5450\n",
      "Epoch 5/20\n",
      "25/25 [==============================] - ETA: 0s - loss: 0.1497 - accuracy: 0.6208WARNING:tensorflow:Can save best model only with mean_squared_error available, skipping.\n",
      "25/25 [==============================] - 9s 354ms/step - loss: 0.1497 - accuracy: 0.6208\n",
      "Epoch 6/20\n",
      "25/25 [==============================] - ETA: 0s - loss: 0.1013 - accuracy: 0.6969WARNING:tensorflow:Can save best model only with mean_squared_error available, skipping.\n",
      "25/25 [==============================] - 10s 406ms/step - loss: 0.1013 - accuracy: 0.6969\n",
      "Epoch 7/20\n",
      "25/25 [==============================] - ETA: 0s - loss: 0.0909 - accuracy: 0.7120WARNING:tensorflow:Can save best model only with mean_squared_error available, skipping.\n",
      "25/25 [==============================] - 10s 415ms/step - loss: 0.0909 - accuracy: 0.7120\n",
      "Epoch 8/20\n",
      "25/25 [==============================] - ETA: 0s - loss: 0.0872 - accuracy: 0.7141WARNING:tensorflow:Can save best model only with mean_squared_error available, skipping.\n",
      "25/25 [==============================] - 9s 345ms/step - loss: 0.0872 - accuracy: 0.7141\n",
      "Epoch 9/20\n",
      "25/25 [==============================] - ETA: 0s - loss: 0.0840 - accuracy: 0.7164WARNING:tensorflow:Can save best model only with mean_squared_error available, skipping.\n",
      "25/25 [==============================] - 9s 361ms/step - loss: 0.0840 - accuracy: 0.7164\n",
      "Epoch 10/20\n",
      "25/25 [==============================] - ETA: 0s - loss: 0.0822 - accuracy: 0.7178WARNING:tensorflow:Can save best model only with mean_squared_error available, skipping.\n",
      "25/25 [==============================] - 9s 381ms/step - loss: 0.0822 - accuracy: 0.7178\n",
      "Epoch 11/20\n",
      "25/25 [==============================] - ETA: 0s - loss: 0.0813 - accuracy: 0.7184WARNING:tensorflow:Can save best model only with mean_squared_error available, skipping.\n",
      "25/25 [==============================] - 9s 348ms/step - loss: 0.0813 - accuracy: 0.7184\n",
      "Epoch 12/20\n",
      "25/25 [==============================] - ETA: 0s - loss: 0.0803 - accuracy: 0.7192WARNING:tensorflow:Can save best model only with mean_squared_error available, skipping.\n",
      "25/25 [==============================] - 9s 359ms/step - loss: 0.0803 - accuracy: 0.7192\n",
      "Epoch 13/20\n",
      "25/25 [==============================] - ETA: 0s - loss: 0.0798 - accuracy: 0.7202WARNING:tensorflow:Can save best model only with mean_squared_error available, skipping.\n",
      "25/25 [==============================] - 9s 347ms/step - loss: 0.0798 - accuracy: 0.7202\n",
      "Epoch 14/20\n",
      "25/25 [==============================] - ETA: 0s - loss: 0.0794 - accuracy: 0.7198WARNING:tensorflow:Can save best model only with mean_squared_error available, skipping.\n",
      "25/25 [==============================] - 9s 354ms/step - loss: 0.0794 - accuracy: 0.7198\n",
      "Epoch 15/20\n",
      "25/25 [==============================] - ETA: 0s - loss: 0.0789 - accuracy: 0.7214WARNING:tensorflow:Can save best model only with mean_squared_error available, skipping.\n",
      "25/25 [==============================] - 9s 352ms/step - loss: 0.0789 - accuracy: 0.7214\n",
      "Epoch 16/20\n",
      "25/25 [==============================] - ETA: 0s - loss: 0.0788 - accuracy: 0.7217WARNING:tensorflow:Can save best model only with mean_squared_error available, skipping.\n",
      "25/25 [==============================] - 9s 351ms/step - loss: 0.0788 - accuracy: 0.7217\n",
      "Epoch 17/20\n",
      "25/25 [==============================] - ETA: 0s - loss: 0.0782 - accuracy: 0.7225WARNING:tensorflow:Can save best model only with mean_squared_error available, skipping.\n",
      "25/25 [==============================] - 9s 359ms/step - loss: 0.0782 - accuracy: 0.7225\n",
      "Epoch 18/20\n",
      "25/25 [==============================] - ETA: 0s - loss: 0.0777 - accuracy: 0.7230WARNING:tensorflow:Can save best model only with mean_squared_error available, skipping.\n",
      "25/25 [==============================] - 9s 353ms/step - loss: 0.0777 - accuracy: 0.7230\n",
      "Epoch 19/20\n",
      "25/25 [==============================] - ETA: 0s - loss: 0.0770 - accuracy: 0.7242WARNING:tensorflow:Can save best model only with mean_squared_error available, skipping.\n",
      "25/25 [==============================] - 9s 350ms/step - loss: 0.0770 - accuracy: 0.7242\n",
      "Epoch 20/20\n",
      "25/25 [==============================] - ETA: 0s - loss: 0.0772 - accuracy: 0.7244WARNING:tensorflow:Can save best model only with mean_squared_error available, skipping.\n",
      "25/25 [==============================] - 8s 336ms/step - loss: 0.0772 - accuracy: 0.7244\n"
     ]
    },
    {
     "data": {
      "text/plain": [
       "<keras.callbacks.History at 0x291a8e94730>"
      ]
     },
     "execution_count": 8,
     "metadata": {},
     "output_type": "execute_result"
    }
   ],
   "source": [
    "model=loadModel()\n",
    "\n",
    "callback_save = ModelCheckpoint(\"model.h5\",\n",
    "                                monitor=\"mean_squared_error\", save_best_only=True)\n",
    "\n",
    "callback_early_stopping = EarlyStopping(monitor='accuracy', patience=3)\n",
    "\n",
    "print('Model has been loaded')\n",
    "\n",
    "model.fit(training_data,target_data,\n",
    "          batch_size=batch_size,\n",
    "          epochs=epochs,\n",
    "          callbacks = [callback_save,callback_early_stopping]\n",
    "          )"
   ]
  },
  {
   "cell_type": "code",
   "execution_count": 9,
   "id": "f2b7f35c-2fda-47e6-9583-28f41f68f385",
   "metadata": {},
   "outputs": [],
   "source": [
    "model.save_weights('weights', save_format='tf')"
   ]
  },
  {
   "cell_type": "code",
   "execution_count": null,
   "id": "6aaffd3f-14e0-4ddd-8834-f4923f9c63b1",
   "metadata": {},
   "outputs": [],
   "source": []
  }
 ],
 "metadata": {
  "kernelspec": {
   "display_name": "Python 3 (ipykernel)",
   "language": "python",
   "name": "python3"
  },
  "language_info": {
   "codemirror_mode": {
    "name": "ipython",
    "version": 3
   },
   "file_extension": ".py",
   "mimetype": "text/x-python",
   "name": "python",
   "nbconvert_exporter": "python",
   "pygments_lexer": "ipython3",
   "version": "3.10.5"
  }
 },
 "nbformat": 4,
 "nbformat_minor": 5
}
